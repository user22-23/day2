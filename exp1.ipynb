{
 "cells": [
  {
   "cell_type": "code",
   "execution_count": 1,
   "id": "1933e31f",
   "metadata": {},
   "outputs": [
    {
     "name": "stdout",
     "output_type": "stream",
     "text": [
      "[1, 2, 3.0, 'text', True, (3+2j)]\n"
     ]
    }
   ],
   "source": [
    "item_list = ['Bread', 'Milk', 'Eggs', 'Butter', 'Cocoa']\n",
    "student_marks = [78, 47, 96, 55, 34]\n",
    "hetero_list = [ 1,2,3.0, 'text', True, 3+2j ]\n",
    "print(hetero_list)"
   ]
  },
  {
   "cell_type": "code",
   "execution_count": 7,
   "id": "92698d9d",
   "metadata": {},
   "outputs": [
    {
     "name": "stdout",
     "output_type": "stream",
     "text": [
      "[83, 52, 101, 60, 39]\n"
     ]
    }
   ],
   "source": [
    "student_marks = [78, 47, 96, 55, 34]\n",
    "for i in range(len(student_marks)):\n",
    "    student_marks[i]+=5\n",
    "print(student_marks)"
   ]
  },
  {
   "cell_type": "code",
   "execution_count": 9,
   "id": "80a3f063",
   "metadata": {},
   "outputs": [
    {
     "name": "stdout",
     "output_type": "stream",
     "text": [
      "CPU times: total: 609 ms\n",
      "Wall time: 687 ms\n"
     ]
    }
   ],
   "source": [
    "%%time\n",
    "list1 = list(range(1,1000000))\n",
    "list2 = list(range(2,1000001))\n",
    "list3 = []\n",
    "for i in range(len(list1)):\n",
    "    list3.append(list1[i]+list2[i])"
   ]
  },
  {
   "cell_type": "code",
   "execution_count": 4,
   "id": "2d8aaf42",
   "metadata": {},
   "outputs": [
    {
     "data": {
      "text/plain": [
       "array([78, 92, 36, 64, 89])"
      ]
     },
     "execution_count": 4,
     "metadata": {},
     "output_type": "execute_result"
    }
   ],
   "source": [
    "import numpy as np\n",
    "student_marks_arr = np.array([78, 92, 36, 64, 89])\n",
    "student_marks_arr"
   ]
  },
  {
   "cell_type": "code",
   "execution_count": 11,
   "id": "4f098f52",
   "metadata": {},
   "outputs": [
    {
     "data": {
      "text/plain": [
       "array([[ 18,  15,  18,  16,  17],\n",
       "       [130, 165, 150, 150, 140],\n",
       "       [307, 350, 318, 304, 302]])"
      ]
     },
     "execution_count": 11,
     "metadata": {},
     "output_type": "execute_result"
    }
   ],
   "source": [
    "car_attributes = [[18, 15, 18, 16, 17],[130, 165, 150, 150, 140],[307, 350, 318, 304, 302]]\n",
    "car_attributes_arr = np.array(car_attributes)\n",
    "car_attributes_arr"
   ]
  },
  {
   "cell_type": "code",
   "execution_count": 12,
   "id": "9a66231c",
   "metadata": {},
   "outputs": [
    {
     "data": {
      "text/plain": [
       "(3, 5)"
      ]
     },
     "execution_count": 12,
     "metadata": {},
     "output_type": "execute_result"
    }
   ],
   "source": [
    "car_attributes_arr.shape"
   ]
  },
  {
   "cell_type": "code",
   "execution_count": 13,
   "id": "a470cac2",
   "metadata": {},
   "outputs": [
    {
     "data": {
      "text/plain": [
       "dtype('int32')"
      ]
     },
     "execution_count": 13,
     "metadata": {},
     "output_type": "execute_result"
    }
   ],
   "source": [
    "car_attributes_arr.dtype"
   ]
  },
  {
   "cell_type": "code",
   "execution_count": 14,
   "id": "be424731",
   "metadata": {},
   "outputs": [
    {
     "name": "stdout",
     "output_type": "stream",
     "text": [
      "[[ 18.  15.  18.  16.  17.]\n",
      " [130. 165. 150. 150. 140.]\n",
      " [307. 350. 318. 304. 302.]]\n",
      "float64\n"
     ]
    }
   ],
   "source": [
    "car_attributes = [[18, 15, 18, 16, 17],[130, 165, 150, 150, 140],[307, 350, 318, 304, 302]]\n",
    "car_attributes_arr = np.array(car_attributes, dtype = 'float')\n",
    "print(car_attributes_arr)\n",
    "print(car_attributes_arr.dtype)"
   ]
  },
  {
   "cell_type": "code",
   "execution_count": 15,
   "id": "b0a2a696",
   "metadata": {},
   "outputs": [
    {
     "data": {
      "text/plain": [
       "'buick skylark 320'"
      ]
     },
     "execution_count": 15,
     "metadata": {},
     "output_type": "execute_result"
    }
   ],
   "source": [
    "cars = np.array(['chevrolet chevelle malibu', 'buick skylark 320', 'plymouth satellite', 'amc rebel sst', 'ford torino'])\n",
    "cars[1]"
   ]
  },
  {
   "cell_type": "code",
   "execution_count": 9,
   "id": "e59bd613",
   "metadata": {},
   "outputs": [
    {
     "data": {
      "text/plain": [
       "array([['chevorlet', 'buick', 'ply', 'amc', 'ford'],\n",
       "       ['130', '165', '150', '150', '140']], dtype='<U11')"
      ]
     },
     "execution_count": 9,
     "metadata": {},
     "output_type": "execute_result"
    }
   ],
   "source": [
    "car_names=['chevorlet','buick','ply','amc','ford']\n",
    "horsepower=[130,165,150,150,140]\n",
    "car_hp_arr=np.array([car_names,horsepower])\n",
    "car_hp_arr"
   ]
  },
  {
   "cell_type": "code",
   "execution_count": 10,
   "id": "a74f458f",
   "metadata": {},
   "outputs": [
    {
     "data": {
      "text/plain": [
       "array(['chevorlet', 'buick', 'ply', 'amc', 'ford'], dtype='<U11')"
      ]
     },
     "execution_count": 10,
     "metadata": {},
     "output_type": "execute_result"
    }
   ],
   "source": [
    "car_hp_arr[0]"
   ]
  },
  {
   "cell_type": "code",
   "execution_count": 11,
   "id": "6f5bdf2c",
   "metadata": {},
   "outputs": [
    {
     "data": {
      "text/plain": [
       "array(['130', '165', '150', '150', '140'], dtype='<U11')"
      ]
     },
     "execution_count": 11,
     "metadata": {},
     "output_type": "execute_result"
    }
   ],
   "source": [
    "car_hp_arr[1]"
   ]
  },
  {
   "cell_type": "code",
   "execution_count": 12,
   "id": "0cafb2d6",
   "metadata": {},
   "outputs": [
    {
     "data": {
      "text/plain": [
       "'buick'"
      ]
     },
     "execution_count": 12,
     "metadata": {},
     "output_type": "execute_result"
    }
   ],
   "source": [
    "car_hp_arr[0,1]"
   ]
  },
  {
   "cell_type": "code",
   "execution_count": 13,
   "id": "25b07b13",
   "metadata": {},
   "outputs": [
    {
     "data": {
      "text/plain": [
       "'amc'"
      ]
     },
     "execution_count": 13,
     "metadata": {},
     "output_type": "execute_result"
    }
   ],
   "source": [
    "car_hp_arr[0,-2]"
   ]
  },
  {
   "cell_type": "code",
   "execution_count": 14,
   "id": "8aa58a54",
   "metadata": {},
   "outputs": [
    {
     "data": {
      "text/plain": [
       "array(['buick', 'ply', 'amc'], dtype='<U9')"
      ]
     },
     "execution_count": 14,
     "metadata": {},
     "output_type": "execute_result"
    }
   ],
   "source": [
    "cars = np.array(['chevrolet', 'buick', 'ply', 'amc', 'ford'])\n",
    "cars[1:4]"
   ]
  },
  {
   "cell_type": "code",
   "execution_count": 15,
   "id": "0117c8ee",
   "metadata": {},
   "outputs": [
    {
     "data": {
      "text/plain": [
       "array([['chevrolet', 'buick', 'ply', 'amc', 'ford'],\n",
       "       ['130', '165', '150', '150', '140'],\n",
       "       ['18', '15', '18', '16', '17']], dtype='<U11')"
      ]
     },
     "execution_count": 15,
     "metadata": {},
     "output_type": "execute_result"
    }
   ],
   "source": [
    "car_names = ['chevrolet', 'buick', 'ply', 'amc', 'ford']\n",
    "horsepower = [130, 165, 150, 150, 140]\n",
    "acceleration = [18, 15, 18, 16, 17]\n",
    "car_hp_acc_arr = np.array([car_names, horsepower, acceleration])\n",
    "car_hp_acc_arr"
   ]
  },
  {
   "cell_type": "code",
   "execution_count": 16,
   "id": "0cfef904",
   "metadata": {},
   "outputs": [
    {
     "data": {
      "text/plain": [
       "array([['chevrolet', 'buick', 'ply', 'amc', 'ford'],\n",
       "       ['130', '165', '150', '150', '140'],\n",
       "       ['18', '15', '18', '16', '17']], dtype='<U11')"
      ]
     },
     "execution_count": 16,
     "metadata": {},
     "output_type": "execute_result"
    }
   ],
   "source": [
    "car_hp_acc_arr[0:3]"
   ]
  },
  {
   "cell_type": "code",
   "execution_count": 17,
   "id": "c8e95e48",
   "metadata": {},
   "outputs": [
    {
     "data": {
      "text/plain": [
       "array([['amc', 'ford'],\n",
       "       ['150', '140']], dtype='<U11')"
      ]
     },
     "execution_count": 17,
     "metadata": {},
     "output_type": "execute_result"
    }
   ],
   "source": [
    "car_hp_acc_arr[0:2, 3:5]"
   ]
  },
  {
   "cell_type": "code",
   "execution_count": 18,
   "id": "95c7a4c5",
   "metadata": {},
   "outputs": [
    {
     "data": {
      "text/plain": [
       "array([['chevrolet', 'buick', 'ply'],\n",
       "       ['130', '165', '150'],\n",
       "       ['18', '15', '18']], dtype='<U11')"
      ]
     },
     "execution_count": 18,
     "metadata": {},
     "output_type": "execute_result"
    }
   ],
   "source": [
    "car_hp_acc_arr[0:3, 0:3]"
   ]
  },
  {
   "cell_type": "code",
   "execution_count": 21,
   "id": "df789b9c",
   "metadata": {},
   "outputs": [
    {
     "name": "stdout",
     "output_type": "stream",
     "text": [
      "Mean horsepower =  147.0\n"
     ]
    }
   ],
   "source": [
    "horsepower = [130, 165, 150, 150, 140]\n",
    "horsepower_arr = np.array(horsepower)\n",
    "print(\"Mean horsepower = \",np.mean(horsepower_arr))"
   ]
  },
  {
   "cell_type": "code",
   "execution_count": 22,
   "id": "1d547ed9",
   "metadata": {},
   "outputs": [
    {
     "name": "stdout",
     "output_type": "stream",
     "text": [
      "Minimum horsepower:  130\n",
      "Maximum horsepower:  165\n"
     ]
    }
   ],
   "source": [
    "print(\"Minimum horsepower: \", np.min(horsepower_arr))\n",
    "print(\"Maximum horsepower: \", np.max(horsepower_arr))"
   ]
  },
  {
   "cell_type": "code",
   "execution_count": 23,
   "id": "034b3ced",
   "metadata": {},
   "outputs": [
    {
     "name": "stdout",
     "output_type": "stream",
     "text": [
      "Index of Minimum horsepower:  0\n",
      "Index of Maximum horsepower:  1\n"
     ]
    }
   ],
   "source": [
    "horsepower = [130, 165, 150, 150, 140]\n",
    "horsepower_arr = np.array(horsepower)\n",
    "print(\"Index of Minimum horsepower: \", np.argmin(horsepower_arr))\n",
    "print(\"Index of Maximum horsepower: \", np.argmax(horsepower_arr))"
   ]
  },
  {
   "cell_type": "code",
   "execution_count": 24,
   "id": "2d300126",
   "metadata": {},
   "outputs": [
    {
     "name": "stdout",
     "output_type": "stream",
     "text": [
      "(array([1, 2, 3], dtype=int64),)\n"
     ]
    },
    {
     "data": {
      "text/plain": [
       "array([165, 150, 150])"
      ]
     },
     "execution_count": 24,
     "metadata": {},
     "output_type": "execute_result"
    }
   ],
   "source": [
    "horsepower = [130, 165, 150, 150, 140]\n",
    "horsepower_arr = np.array(horsepower)\n",
    "x = np.where(horsepower_arr >= 150)\n",
    "print(x)\n",
    "horsepower_arr[x]"
   ]
  },
  {
   "cell_type": "code",
   "execution_count": 25,
   "id": "13d35730",
   "metadata": {},
   "outputs": [
    {
     "data": {
      "text/plain": [
       "150"
      ]
     },
     "execution_count": 25,
     "metadata": {},
     "output_type": "execute_result"
    }
   ],
   "source": [
    "horsepower_arr[3]"
   ]
  },
  {
   "cell_type": "code",
   "execution_count": 26,
   "id": "52079ca7",
   "metadata": {},
   "outputs": [
    {
     "data": {
      "text/plain": [
       "array([165, 140])"
      ]
     },
     "execution_count": 26,
     "metadata": {},
     "output_type": "execute_result"
    }
   ],
   "source": [
    "horsepower_arr[[1,4]]"
   ]
  },
  {
   "cell_type": "code",
   "execution_count": 27,
   "id": "cd823eda",
   "metadata": {},
   "outputs": [
    {
     "name": "stdout",
     "output_type": "stream",
     "text": [
      "bool\n",
      "[False  True  True  True  True]\n",
      "[165 150 150 140]\n"
     ]
    }
   ],
   "source": [
    "horsepower = [130, 165, 150, 150, 140]\n",
    "horsepower_arr = np.array(horsepower)\n",
    "x = horsepower_arr > 135\n",
    "print(x.dtype)\n",
    "newarr = horsepower_arr[x]\n",
    "print(x)\n",
    "print(newarr)"
   ]
  },
  {
   "cell_type": "code",
   "execution_count": 28,
   "id": "e46e28ac",
   "metadata": {},
   "outputs": [
    {
     "name": "stdout",
     "output_type": "stream",
     "text": [
      "original array:  [130 165 150 150 140]\n",
      "Sorted array:  [130 140 150 150 165]\n",
      "original array after sorting:  [130 165 150 150 140]\n",
      "[130 140 150 150 165]\n"
     ]
    }
   ],
   "source": [
    "horsepower = [130, 165, 150, 150, 140]\n",
    "horsepower_arr = np.array(horsepower)\n",
    "#using sort(array)\n",
    "print('original array: ', horsepower_arr)\n",
    "print('Sorted array: ', np.sort(horsepower_arr))\n",
    "print('original array after sorting: ', horsepower_arr)\n",
    "sortedarray = np.sort(horsepower_arr)\n",
    "print(sortedarray)"
   ]
  },
  {
   "cell_type": "code",
   "execution_count": 30,
   "id": "29575667",
   "metadata": {},
   "outputs": [
    {
     "name": "stdout",
     "output_type": "stream",
     "text": [
      "[130 165 150 150 140]\n",
      "[130 140 150 150 165]\n"
     ]
    }
   ],
   "source": [
    "horsepower = [130, 165, 150, 150, 140]\n",
    "horsepower_arr = np.array(horsepower)\n",
    "np.sort(horsepower_arr)\n",
    "print(horsepower_arr)\n",
    "horsepower_arr.sort()\n",
    "print(horsepower_arr)"
   ]
  },
  {
   "cell_type": "code",
   "execution_count": 31,
   "id": "854384d5",
   "metadata": {},
   "outputs": [
    {
     "name": "stdout",
     "output_type": "stream",
     "text": [
      "original array:  [130 165 150 150 140]\n",
      "original array after sorting:  [130 140 150 150 165]\n"
     ]
    }
   ],
   "source": [
    "horsepower = [130, 165, 150, 150, 140]\n",
    "horsepower_arr = np.array(horsepower)\n",
    "print('original array: ', horsepower_arr)\n",
    "horsepower_arr.sort()\n",
    "print('original array after sorting: ', horsepower_arr)\n"
   ]
  },
  {
   "cell_type": "code",
   "execution_count": 32,
   "id": "fb80a5b5",
   "metadata": {},
   "outputs": [
    {
     "name": "stdout",
     "output_type": "stream",
     "text": [
      "359\n"
     ]
    }
   ],
   "source": [
    "student_marks_arr = np.array([78, 92, 36, 64, 89])\n",
    "print(np.sum(student_marks_arr))"
   ]
  },
  {
   "cell_type": "code",
   "execution_count": 34,
   "id": "36365557",
   "metadata": {},
   "outputs": [
    {
     "data": {
      "text/plain": [
       "array([80, 94, 41, 74, 90])"
      ]
     },
     "execution_count": 34,
     "metadata": {},
     "output_type": "execute_result"
    }
   ],
   "source": [
    "additional_marks = [2, 2, 5, 10, 1]\n",
    "student_marks_arr =student_marks_arr+additional_marks\n",
    "student_marks_arr"
   ]
  },
  {
   "cell_type": "code",
   "execution_count": 35,
   "id": "5fa7af4a",
   "metadata": {},
   "outputs": [
    {
     "data": {
      "text/plain": [
       "array([80, 94, 41, 74, 90])"
      ]
     },
     "execution_count": 35,
     "metadata": {},
     "output_type": "execute_result"
    }
   ],
   "source": [
    "student_marks_arr = np.array([78, 92, 36, 64, 89])\n",
    "student_marks_arr = np.add(student_marks_arr, additional_marks)\n",
    "student_marks_arr"
   ]
  },
  {
   "cell_type": "code",
   "execution_count": 36,
   "id": "dc59805b",
   "metadata": {},
   "outputs": [
    {
     "data": {
      "text/plain": [
       "array([25, 50, 75])"
      ]
     },
     "execution_count": 36,
     "metadata": {},
     "output_type": "execute_result"
    }
   ],
   "source": [
    "array1=np.array([5, 10, 15])\n",
    "array2=np.array([5])\n",
    "array3= array1 * array2\n",
    "array3"
   ]
  },
  {
   "cell_type": "code",
   "execution_count": 37,
   "id": "993eb34c",
   "metadata": {},
   "outputs": [
    {
     "data": {
      "text/plain": [
       "array([5, 6, 7])"
      ]
     },
     "execution_count": 37,
     "metadata": {},
     "output_type": "execute_result"
    }
   ],
   "source": [
    "array1=np.array([0,1,2])\n",
    "array2=np.array([5])\n",
    "array3= array1 + array2\n",
    "array3"
   ]
  },
  {
   "cell_type": "code",
   "execution_count": 38,
   "id": "da86e4ab",
   "metadata": {},
   "outputs": [
    {
     "data": {
      "text/plain": [
       "array([[1, 2, 3],\n",
       "       [1, 2, 3],\n",
       "       [1, 2, 3]])"
      ]
     },
     "execution_count": 38,
     "metadata": {},
     "output_type": "execute_result"
    }
   ],
   "source": [
    "array1=np.array([[1,1,1],[1,1,1],[1,1,1]])\n",
    "array2=np.array([0,1,2])\n",
    "array3= array1 + array2\n",
    "array3"
   ]
  },
  {
   "cell_type": "code",
   "execution_count": 39,
   "id": "592b3fc7",
   "metadata": {},
   "outputs": [
    {
     "data": {
      "text/plain": [
       "array([[67, 45],\n",
       "       [90, 92],\n",
       "       [66, 72],\n",
       "       [32, 40]])"
      ]
     },
     "execution_count": 39,
     "metadata": {},
     "output_type": "execute_result"
    }
   ],
   "source": [
    "students_marks = np.array([[67, 45],[90, 92],[66, 72],[32, 40]])\n",
    "students_marks"
   ]
  },
  {
   "cell_type": "code",
   "execution_count": 40,
   "id": "848dd459",
   "metadata": {},
   "outputs": [
    {
     "data": {
      "text/plain": [
       "array([[ 72,  55],\n",
       "       [ 95, 102],\n",
       "       [ 71,  82],\n",
       "       [ 37,  50]])"
      ]
     },
     "execution_count": 40,
     "metadata": {},
     "output_type": "execute_result"
    }
   ],
   "source": [
    "students_marks += [5,10]\n",
    "students_marks"
   ]
  },
  {
   "cell_type": "code",
   "execution_count": 44,
   "id": "7a6841bb",
   "metadata": {},
   "outputs": [
    {
     "data": {
      "text/plain": [
       "array([   0,    1,    2, ..., 9997, 9998, 9999])"
      ]
     },
     "execution_count": 44,
     "metadata": {},
     "output_type": "execute_result"
    }
   ],
   "source": [
    "np.arange(0,10000)"
   ]
  },
  {
   "cell_type": "code",
   "execution_count": 45,
   "id": "bea7e02f",
   "metadata": {},
   "outputs": [
    {
     "data": {
      "text/plain": [
       "array([ 1,  4,  7, 10])"
      ]
     },
     "execution_count": 45,
     "metadata": {},
     "output_type": "execute_result"
    }
   ],
   "source": [
    "np.arange(1,12,3)"
   ]
  },
  {
   "cell_type": "code",
   "execution_count": 46,
   "id": "3b6f3d96",
   "metadata": {},
   "outputs": [
    {
     "name": "stdout",
     "output_type": "stream",
     "text": [
      "[ 0.   2.5  5.   7.5 10. ]\n",
      "Length of arr:  5\n"
     ]
    }
   ],
   "source": [
    "arr = np.linspace(0,10,5)\n",
    "print(arr)\n",
    "print('Length of arr: ',len(arr))"
   ]
  },
  {
   "cell_type": "code",
   "execution_count": 47,
   "id": "6ba07c22",
   "metadata": {},
   "outputs": [
    {
     "name": "stdout",
     "output_type": "stream",
     "text": [
      "[ 0.  5. 10.]\n"
     ]
    }
   ],
   "source": [
    "print(np.linspace(0,10,3))"
   ]
  },
  {
   "cell_type": "code",
   "execution_count": 48,
   "id": "714fdcf3",
   "metadata": {},
   "outputs": [
    {
     "data": {
      "text/plain": [
       "array([0., 0., 0., 0., 0.])"
      ]
     },
     "execution_count": 48,
     "metadata": {},
     "output_type": "execute_result"
    }
   ],
   "source": [
    "np.zeros(5)"
   ]
  },
  {
   "cell_type": "code",
   "execution_count": 49,
   "id": "c20118be",
   "metadata": {},
   "outputs": [
    {
     "data": {
      "text/plain": [
       "array([[0., 0., 0.],\n",
       "       [0., 0., 0.]])"
      ]
     },
     "execution_count": 49,
     "metadata": {},
     "output_type": "execute_result"
    }
   ],
   "source": [
    "np.zeros([2,3])"
   ]
  },
  {
   "cell_type": "code",
   "execution_count": 50,
   "id": "1638274b",
   "metadata": {},
   "outputs": [
    {
     "data": {
      "text/plain": [
       "array([1., 1., 1.])"
      ]
     },
     "execution_count": 50,
     "metadata": {},
     "output_type": "execute_result"
    }
   ],
   "source": [
    "np.ones(3)"
   ]
  },
  {
   "cell_type": "code",
   "execution_count": 51,
   "id": "663cfd54",
   "metadata": {},
   "outputs": [
    {
     "data": {
      "text/plain": [
       "array([[1.],\n",
       "       [1.]])"
      ]
     },
     "execution_count": 51,
     "metadata": {},
     "output_type": "execute_result"
    }
   ],
   "source": [
    "np.ones([2,1])"
   ]
  },
  {
   "cell_type": "code",
   "execution_count": 52,
   "id": "76004320",
   "metadata": {},
   "outputs": [
    {
     "data": {
      "text/plain": [
       "array([8, 8, 8, 8, 8])"
      ]
     },
     "execution_count": 52,
     "metadata": {},
     "output_type": "execute_result"
    }
   ],
   "source": [
    "np.full(5,8)"
   ]
  },
  {
   "cell_type": "code",
   "execution_count": 53,
   "id": "acecc6c9",
   "metadata": {},
   "outputs": [
    {
     "data": {
      "text/plain": [
       "array([[10, 10, 10],\n",
       "       [10, 10, 10],\n",
       "       [10, 10, 10]])"
      ]
     },
     "execution_count": 53,
     "metadata": {},
     "output_type": "execute_result"
    }
   ],
   "source": [
    "np.full([3,3],10)"
   ]
  },
  {
   "cell_type": "code",
   "execution_count": 54,
   "id": "b4af2083",
   "metadata": {},
   "outputs": [
    {
     "data": {
      "text/plain": [
       "array([[1., 0., 0., 0.],\n",
       "       [0., 1., 0., 0.],\n",
       "       [0., 0., 1., 0.],\n",
       "       [0., 0., 0., 1.]])"
      ]
     },
     "execution_count": 54,
     "metadata": {},
     "output_type": "execute_result"
    }
   ],
   "source": [
    "np.eye(4)"
   ]
  },
  {
   "cell_type": "code",
   "execution_count": 55,
   "id": "4c439ad3",
   "metadata": {},
   "outputs": [
    {
     "data": {
      "text/plain": [
       "array([0.98654733, 0.55688633, 0.51613337, 0.24955166, 0.17514237])"
      ]
     },
     "execution_count": 55,
     "metadata": {},
     "output_type": "execute_result"
    }
   ],
   "source": [
    "np.random.rand(5)"
   ]
  },
  {
   "cell_type": "code",
   "execution_count": 56,
   "id": "892999ec",
   "metadata": {},
   "outputs": [
    {
     "data": {
      "text/plain": [
       "array([1, 3, 8, 7, 6])"
      ]
     },
     "execution_count": 56,
     "metadata": {},
     "output_type": "execute_result"
    }
   ],
   "source": [
    "np.random.randint(1,10, size=5)"
   ]
  },
  {
   "cell_type": "code",
   "execution_count": 57,
   "id": "c301bc7b",
   "metadata": {},
   "outputs": [
    {
     "name": "stdout",
     "output_type": "stream",
     "text": [
      "[[20 28 20 25 23]\n",
      " [25 24 21 21 26]\n",
      " [20 24 22 28 26]]\n",
      "<class 'numpy.ndarray'>\n"
     ]
    }
   ],
   "source": [
    "x = np.random.randint(20,30, size=(3, 5))\n",
    "print(x)\n",
    "print(type(x))"
   ]
  },
  {
   "cell_type": "code",
   "execution_count": 58,
   "id": "7438a796",
   "metadata": {},
   "outputs": [
    {
     "name": "stdout",
     "output_type": "stream",
     "text": [
      "3\n"
     ]
    }
   ],
   "source": [
    "x = np.random.choice([9, 3, 7, 5])\n",
    "print(x)"
   ]
  },
  {
   "cell_type": "code",
   "execution_count": 59,
   "id": "c3eb8886",
   "metadata": {},
   "outputs": [
    {
     "name": "stdout",
     "output_type": "stream",
     "text": [
      "[[7 5 3 9 7]\n",
      " [3 3 7 3 5]\n",
      " [3 7 5 9 9]]\n",
      "<class 'numpy.ndarray'>\n"
     ]
    }
   ],
   "source": [
    "x = np.random.choice([9, 3, 7, 5], size=(3, 5)) # sampling to create an nd-array\n",
    "print(x)\n",
    "print(type(x))"
   ]
  },
  {
   "cell_type": "code",
   "execution_count": null,
   "id": "6f38cc74",
   "metadata": {},
   "outputs": [],
   "source": []
  }
 ],
 "metadata": {
  "kernelspec": {
   "display_name": "Python 3 (ipykernel)",
   "language": "python",
   "name": "python3"
  },
  "language_info": {
   "codemirror_mode": {
    "name": "ipython",
    "version": 3
   },
   "file_extension": ".py",
   "mimetype": "text/x-python",
   "name": "python",
   "nbconvert_exporter": "python",
   "pygments_lexer": "ipython3",
   "version": "3.11.3"
  }
 },
 "nbformat": 4,
 "nbformat_minor": 5
}
